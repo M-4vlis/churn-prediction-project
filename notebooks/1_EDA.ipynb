{
 "cells": [
  {
   "cell_type": "markdown",
   "id": "c37e0c2d",
   "metadata": {},
   "source": [
    "# Análise Exploratória de Dados (EDA) - Previsão de Cancelamento de Clientes\n",
    "\n",
    "Este notebook tem como objetivo realizar uma análise exploratória do dataset `cancelamentos.csv`, com o propósito de entender os padrões e comportamentos que levam clientes a cancelar seus serviços. \n",
    "\n",
    "Vamos investigar variáveis como idade, assinatura, atrasos, chamadas ao call center e outros fatores que possam contribuir para o churn."
   ]
  },
  {
   "cell_type": "code",
   "execution_count": 2,
   "id": "bdeecd28",
   "metadata": {},
   "outputs": [
    {
     "data": {
      "text/html": [
       "<div>\n",
       "<style scoped>\n",
       "    .dataframe tbody tr th:only-of-type {\n",
       "        vertical-align: middle;\n",
       "    }\n",
       "\n",
       "    .dataframe tbody tr th {\n",
       "        vertical-align: top;\n",
       "    }\n",
       "\n",
       "    .dataframe thead th {\n",
       "        text-align: right;\n",
       "    }\n",
       "</style>\n",
       "<table border=\"1\" class=\"dataframe\">\n",
       "  <thead>\n",
       "    <tr style=\"text-align: right;\">\n",
       "      <th></th>\n",
       "      <th>CustomerID</th>\n",
       "      <th>idade</th>\n",
       "      <th>sexo</th>\n",
       "      <th>tempo_como_cliente</th>\n",
       "      <th>frequencia_uso</th>\n",
       "      <th>ligacoes_callcenter</th>\n",
       "      <th>dias_atraso</th>\n",
       "      <th>assinatura</th>\n",
       "      <th>duracao_contrato</th>\n",
       "      <th>total_gasto</th>\n",
       "      <th>meses_ultima_interacao</th>\n",
       "      <th>cancelou</th>\n",
       "    </tr>\n",
       "  </thead>\n",
       "  <tbody>\n",
       "    <tr>\n",
       "      <th>0</th>\n",
       "      <td>2.0</td>\n",
       "      <td>30.0</td>\n",
       "      <td>Female</td>\n",
       "      <td>39.0</td>\n",
       "      <td>14.0</td>\n",
       "      <td>5.0</td>\n",
       "      <td>18.0</td>\n",
       "      <td>Standard</td>\n",
       "      <td>Annual</td>\n",
       "      <td>932.0</td>\n",
       "      <td>17.0</td>\n",
       "      <td>1.0</td>\n",
       "    </tr>\n",
       "    <tr>\n",
       "      <th>1</th>\n",
       "      <td>3.0</td>\n",
       "      <td>65.0</td>\n",
       "      <td>Female</td>\n",
       "      <td>49.0</td>\n",
       "      <td>1.0</td>\n",
       "      <td>10.0</td>\n",
       "      <td>8.0</td>\n",
       "      <td>Basic</td>\n",
       "      <td>Monthly</td>\n",
       "      <td>557.0</td>\n",
       "      <td>6.0</td>\n",
       "      <td>1.0</td>\n",
       "    </tr>\n",
       "    <tr>\n",
       "      <th>2</th>\n",
       "      <td>4.0</td>\n",
       "      <td>55.0</td>\n",
       "      <td>Female</td>\n",
       "      <td>14.0</td>\n",
       "      <td>4.0</td>\n",
       "      <td>6.0</td>\n",
       "      <td>18.0</td>\n",
       "      <td>Basic</td>\n",
       "      <td>Quarterly</td>\n",
       "      <td>185.0</td>\n",
       "      <td>3.0</td>\n",
       "      <td>1.0</td>\n",
       "    </tr>\n",
       "    <tr>\n",
       "      <th>3</th>\n",
       "      <td>5.0</td>\n",
       "      <td>58.0</td>\n",
       "      <td>Male</td>\n",
       "      <td>38.0</td>\n",
       "      <td>21.0</td>\n",
       "      <td>7.0</td>\n",
       "      <td>7.0</td>\n",
       "      <td>Standard</td>\n",
       "      <td>Monthly</td>\n",
       "      <td>396.0</td>\n",
       "      <td>29.0</td>\n",
       "      <td>1.0</td>\n",
       "    </tr>\n",
       "    <tr>\n",
       "      <th>4</th>\n",
       "      <td>6.0</td>\n",
       "      <td>23.0</td>\n",
       "      <td>Male</td>\n",
       "      <td>32.0</td>\n",
       "      <td>20.0</td>\n",
       "      <td>5.0</td>\n",
       "      <td>8.0</td>\n",
       "      <td>Basic</td>\n",
       "      <td>Monthly</td>\n",
       "      <td>617.0</td>\n",
       "      <td>20.0</td>\n",
       "      <td>1.0</td>\n",
       "    </tr>\n",
       "  </tbody>\n",
       "</table>\n",
       "</div>"
      ],
      "text/plain": [
       "   CustomerID  idade    sexo  tempo_como_cliente  frequencia_uso  \\\n",
       "0         2.0   30.0  Female                39.0            14.0   \n",
       "1         3.0   65.0  Female                49.0             1.0   \n",
       "2         4.0   55.0  Female                14.0             4.0   \n",
       "3         5.0   58.0    Male                38.0            21.0   \n",
       "4         6.0   23.0    Male                32.0            20.0   \n",
       "\n",
       "   ligacoes_callcenter  dias_atraso assinatura duracao_contrato  total_gasto  \\\n",
       "0                  5.0         18.0   Standard           Annual        932.0   \n",
       "1                 10.0          8.0      Basic          Monthly        557.0   \n",
       "2                  6.0         18.0      Basic        Quarterly        185.0   \n",
       "3                  7.0          7.0   Standard          Monthly        396.0   \n",
       "4                  5.0          8.0      Basic          Monthly        617.0   \n",
       "\n",
       "   meses_ultima_interacao  cancelou  \n",
       "0                    17.0       1.0  \n",
       "1                     6.0       1.0  \n",
       "2                     3.0       1.0  \n",
       "3                    29.0       1.0  \n",
       "4                    20.0       1.0  "
      ]
     },
     "execution_count": 2,
     "metadata": {},
     "output_type": "execute_result"
    }
   ],
   "source": [
    "import pandas as pd\n",
    "import matplotlib.pyplot as plt\n",
    "import seaborn as sns\n",
    "\n",
    "# Configurações estéticas\n",
    "sns.set(style=\"whitegrid\")\n",
    "plt.rcParams[\"figure.figsize\"] = (10, 6)\n",
    "\n",
    "# Leitura dos dados\n",
    "df = pd.read_csv('../data/raw/cancelamentos.csv')\n",
    "\n",
    "# Visualização geral\n",
    "df.head()"
   ]
  },
  {
   "cell_type": "markdown",
   "id": "b60f1ada",
   "metadata": {},
   "source": [
    "## Informações Iniciais do Dataset\n",
    "\n",
    "Vamos verificar a estrutura geral do dataset, tipos de variáveis e a presença de dados ausentes."
   ]
  },
  {
   "cell_type": "code",
   "execution_count": 3,
   "id": "6652c135",
   "metadata": {},
   "outputs": [
    {
     "name": "stdout",
     "output_type": "stream",
     "text": [
      "<class 'pandas.core.frame.DataFrame'>\n",
      "RangeIndex: 881666 entries, 0 to 881665\n",
      "Data columns (total 12 columns):\n",
      " #   Column                  Non-Null Count   Dtype  \n",
      "---  ------                  --------------   -----  \n",
      " 0   CustomerID              881664 non-null  float64\n",
      " 1   idade                   881664 non-null  float64\n",
      " 2   sexo                    881664 non-null  object \n",
      " 3   tempo_como_cliente      881663 non-null  float64\n",
      " 4   frequencia_uso          881663 non-null  float64\n",
      " 5   ligacoes_callcenter     881664 non-null  float64\n",
      " 6   dias_atraso             881664 non-null  float64\n",
      " 7   assinatura              881661 non-null  object \n",
      " 8   duracao_contrato        881663 non-null  object \n",
      " 9   total_gasto             881664 non-null  float64\n",
      " 10  meses_ultima_interacao  881664 non-null  float64\n",
      " 11  cancelou                881664 non-null  float64\n",
      "dtypes: float64(9), object(3)\n",
      "memory usage: 80.7+ MB\n"
     ]
    },
    {
     "data": {
      "text/plain": [
       "CustomerID                2\n",
       "idade                     2\n",
       "sexo                      2\n",
       "tempo_como_cliente        3\n",
       "frequencia_uso            3\n",
       "ligacoes_callcenter       2\n",
       "dias_atraso               2\n",
       "assinatura                5\n",
       "duracao_contrato          3\n",
       "total_gasto               2\n",
       "meses_ultima_interacao    2\n",
       "cancelou                  2\n",
       "dtype: int64"
      ]
     },
     "execution_count": 3,
     "metadata": {},
     "output_type": "execute_result"
    }
   ],
   "source": [
    "df.info()\n",
    "df.isnull().sum()"
   ]
  },
  {
   "cell_type": "markdown",
   "id": "a193729e",
   "metadata": {},
   "source": [
    "## Limpeza de Dados\n",
    "\n",
    "Remoção de linhas com valores ausentes para garantir uma análise consistente."
   ]
  },
  {
   "cell_type": "code",
   "execution_count": 4,
   "id": "92fa6afd",
   "metadata": {},
   "outputs": [],
   "source": [
    "df = df.dropna()"
   ]
  },
  {
   "cell_type": "markdown",
   "id": "350630ae",
   "metadata": {},
   "source": [
    "## Estatísticas Descritivas\n",
    "\n",
    "Aqui vamos ver medidas de tendência central e dispersão para as variáveis numéricas."
   ]
  },
  {
   "cell_type": "code",
   "execution_count": 5,
   "id": "3b5cf14c",
   "metadata": {},
   "outputs": [
    {
     "data": {
      "text/html": [
       "<div>\n",
       "<style scoped>\n",
       "    .dataframe tbody tr th:only-of-type {\n",
       "        vertical-align: middle;\n",
       "    }\n",
       "\n",
       "    .dataframe tbody tr th {\n",
       "        vertical-align: top;\n",
       "    }\n",
       "\n",
       "    .dataframe thead th {\n",
       "        text-align: right;\n",
       "    }\n",
       "</style>\n",
       "<table border=\"1\" class=\"dataframe\">\n",
       "  <thead>\n",
       "    <tr style=\"text-align: right;\">\n",
       "      <th></th>\n",
       "      <th>CustomerID</th>\n",
       "      <th>idade</th>\n",
       "      <th>tempo_como_cliente</th>\n",
       "      <th>frequencia_uso</th>\n",
       "      <th>ligacoes_callcenter</th>\n",
       "      <th>dias_atraso</th>\n",
       "      <th>total_gasto</th>\n",
       "      <th>meses_ultima_interacao</th>\n",
       "      <th>cancelou</th>\n",
       "    </tr>\n",
       "  </thead>\n",
       "  <tbody>\n",
       "    <tr>\n",
       "      <th>count</th>\n",
       "      <td>881659.000000</td>\n",
       "      <td>881659.000000</td>\n",
       "      <td>881659.000000</td>\n",
       "      <td>881659.000000</td>\n",
       "      <td>881659.000000</td>\n",
       "      <td>881659.000000</td>\n",
       "      <td>881659.000000</td>\n",
       "      <td>881659.000000</td>\n",
       "      <td>881659.000000</td>\n",
       "    </tr>\n",
       "    <tr>\n",
       "      <th>mean</th>\n",
       "      <td>225399.946108</td>\n",
       "      <td>39.373179</td>\n",
       "      <td>31.256329</td>\n",
       "      <td>15.807526</td>\n",
       "      <td>3.604434</td>\n",
       "      <td>12.965727</td>\n",
       "      <td>631.617210</td>\n",
       "      <td>14.480866</td>\n",
       "      <td>0.567105</td>\n",
       "    </tr>\n",
       "    <tr>\n",
       "      <th>std</th>\n",
       "      <td>129531.100415</td>\n",
       "      <td>12.442359</td>\n",
       "      <td>17.255716</td>\n",
       "      <td>8.586247</td>\n",
       "      <td>3.070221</td>\n",
       "      <td>8.258047</td>\n",
       "      <td>240.802385</td>\n",
       "      <td>8.596216</td>\n",
       "      <td>0.495477</td>\n",
       "    </tr>\n",
       "    <tr>\n",
       "      <th>min</th>\n",
       "      <td>2.000000</td>\n",
       "      <td>18.000000</td>\n",
       "      <td>1.000000</td>\n",
       "      <td>1.000000</td>\n",
       "      <td>0.000000</td>\n",
       "      <td>0.000000</td>\n",
       "      <td>100.000000</td>\n",
       "      <td>1.000000</td>\n",
       "      <td>0.000000</td>\n",
       "    </tr>\n",
       "    <tr>\n",
       "      <th>25%</th>\n",
       "      <td>113623.500000</td>\n",
       "      <td>29.000000</td>\n",
       "      <td>16.000000</td>\n",
       "      <td>9.000000</td>\n",
       "      <td>1.000000</td>\n",
       "      <td>6.000000</td>\n",
       "      <td>480.000000</td>\n",
       "      <td>7.000000</td>\n",
       "      <td>0.000000</td>\n",
       "    </tr>\n",
       "    <tr>\n",
       "      <th>50%</th>\n",
       "      <td>226127.000000</td>\n",
       "      <td>39.000000</td>\n",
       "      <td>32.000000</td>\n",
       "      <td>16.000000</td>\n",
       "      <td>3.000000</td>\n",
       "      <td>12.000000</td>\n",
       "      <td>661.000000</td>\n",
       "      <td>14.000000</td>\n",
       "      <td>1.000000</td>\n",
       "    </tr>\n",
       "    <tr>\n",
       "      <th>75%</th>\n",
       "      <td>337740.000000</td>\n",
       "      <td>48.000000</td>\n",
       "      <td>46.000000</td>\n",
       "      <td>23.000000</td>\n",
       "      <td>6.000000</td>\n",
       "      <td>19.000000</td>\n",
       "      <td>830.000000</td>\n",
       "      <td>22.000000</td>\n",
       "      <td>1.000000</td>\n",
       "    </tr>\n",
       "    <tr>\n",
       "      <th>max</th>\n",
       "      <td>449999.000000</td>\n",
       "      <td>65.000000</td>\n",
       "      <td>60.000000</td>\n",
       "      <td>30.000000</td>\n",
       "      <td>10.000000</td>\n",
       "      <td>30.000000</td>\n",
       "      <td>1000.000000</td>\n",
       "      <td>30.000000</td>\n",
       "      <td>1.000000</td>\n",
       "    </tr>\n",
       "  </tbody>\n",
       "</table>\n",
       "</div>"
      ],
      "text/plain": [
       "          CustomerID          idade  tempo_como_cliente  frequencia_uso  \\\n",
       "count  881659.000000  881659.000000       881659.000000   881659.000000   \n",
       "mean   225399.946108      39.373179           31.256329       15.807526   \n",
       "std    129531.100415      12.442359           17.255716        8.586247   \n",
       "min         2.000000      18.000000            1.000000        1.000000   \n",
       "25%    113623.500000      29.000000           16.000000        9.000000   \n",
       "50%    226127.000000      39.000000           32.000000       16.000000   \n",
       "75%    337740.000000      48.000000           46.000000       23.000000   \n",
       "max    449999.000000      65.000000           60.000000       30.000000   \n",
       "\n",
       "       ligacoes_callcenter    dias_atraso    total_gasto  \\\n",
       "count        881659.000000  881659.000000  881659.000000   \n",
       "mean              3.604434      12.965727     631.617210   \n",
       "std               3.070221       8.258047     240.802385   \n",
       "min               0.000000       0.000000     100.000000   \n",
       "25%               1.000000       6.000000     480.000000   \n",
       "50%               3.000000      12.000000     661.000000   \n",
       "75%               6.000000      19.000000     830.000000   \n",
       "max              10.000000      30.000000    1000.000000   \n",
       "\n",
       "       meses_ultima_interacao       cancelou  \n",
       "count           881659.000000  881659.000000  \n",
       "mean                14.480866       0.567105  \n",
       "std                  8.596216       0.495477  \n",
       "min                  1.000000       0.000000  \n",
       "25%                  7.000000       0.000000  \n",
       "50%                 14.000000       1.000000  \n",
       "75%                 22.000000       1.000000  \n",
       "max                 30.000000       1.000000  "
      ]
     },
     "execution_count": 5,
     "metadata": {},
     "output_type": "execute_result"
    }
   ],
   "source": [
    "df.describe()"
   ]
  },
  {
   "cell_type": "markdown",
   "id": "72d7c25f",
   "metadata": {},
   "source": [
    "## Visualição da Variável Principal\n",
    "\n",
    "Após a limpeza e análise inicial, vamos verificar a como está a distribuição dos cancelamentos, que é o alvo dessa análise."
   ]
  },
  {
   "cell_type": "code",
   "execution_count": 6,
   "id": "041f741e",
   "metadata": {},
   "outputs": [
    {
     "data": {
      "image/png": "[encoded data removed]",
      "text/plain": [
       "<Figure size 1000x600 with 1 Axes>"
      ]
     },
     "metadata": {},
     "output_type": "display_data"
    },
    {
     "name": "stdout",
     "output_type": "stream",
     "text": [
      "cancelou\n",
      "1.0    56.710474\n",
      "0.0    43.289526\n",
      "Name: proportion, dtype: float64\n"
     ]
    }
   ],
   "source": [
    "sns.countplot(data=df, x='cancelou')\n",
    "plt.title(\"Distribuição dos cancelamentos\")\n",
    "plt.xlabel(\"Cancelou\")\n",
    "plt.ylabel(\"Quantidade de Clientes\")\n",
    "plt.show()\n",
    "\n",
    "# Ver a proporção percentual\n",
    "print(df['cancelou'].value_counts(normalize=True) * 100)"
   ]
  },
  {
   "cell_type": "markdown",
   "id": "e01507c3",
   "metadata": {},
   "source": [
    "## Primeiras Considerações\n",
    "\n",
    "Nesse Dataset os clientes que cancelaram são representados pelo número 1, enquanto os que não cancelaram são representados pelo número 0.\n",
    "\n",
    "Dito isto, podemos observar que existe uma alta taxa de cancelamentos, ultrapassando os 50%. A partir disso, vamos buscar entender as causas desses cancelamentos e apresentar soluções para suprimir  a perda de clientes.\n",
    "\n",
    "Faremos um mapa de correlação para identificar os primeiros pontos chave."
   ]
  },
  {
   "cell_type": "code",
   "execution_count": 7,
   "id": "732a7e47",
   "metadata": {},
   "outputs": [
    {
     "data": {
      "application/vnd.plotly.v1+json": {
       "config": {
        "plotlyServerURL": "https://plot.ly"
       },
       "data": [
        {
         "coloraxis": "coloraxis",
         "hovertemplate": "x: %{x}<br>y: %{y}<br>color: %{z}<extra></extra>",
         "name": "0",
         "texttemplate": "%{z:.2f}",
         "type": "heatmap",
         "x": [
          "CustomerID",
          "idade",
          "tempo_como_cliente",
          "frequencia_uso",
          "ligacoes_callcenter",
          "dias_atraso",
          "total_gasto",
          "meses_ultima_interacao",
          "cancelou"
         ],
         "xaxis": "x",
         "y": [
          "CustomerID",
          "idade",
          "tempo_como_cliente",
          "frequencia_uso",
          "ligacoes_callcenter",
          "dias_atraso",
          "total_gasto",
          "meses_ultima_interacao",
          "cancelou"
         ],
         "yaxis": "y",
         "z": {
          "bdata": "AAAAAAAA8D+ItmR1M0vHv71NpthImKY//kgZzYSvoz//1Saxy+fev4kHQigqxdC/AWJ2Wo3+1j97EB1mrgvAvzH0WCQV3Oq/iLZkdTNLx78AAAAAAADwP5ZeUcRh0Ye/3K3Z5mx0fb9YjJnfPkjEPz7iq17bm68/DhORexuutb+IOcTOTKydP/yK6t9t9Ms/vU2m2EiYpj+WXlHEYdGHvwAAAAAAAPA/5VE9Vplxm79luQL/H06cv9TendXc+pC/N+3oYC92kz+u4ms4dEl8v/tM8Poylaq//kgZzYSvoz/crdnmbHR9v+VRPVaZcZu/AAAAAAAA8D+dk8geQIqWv+5zIl/EoY2/SaaX1ZoTkz90MoOjNhhzv1vZWLsfmqe//9Umscvn3r9YjJnfPkjEP2W5Av8fTpy/nZPIHkCKlr8AAAAAAADwP3Jwk9mb2cQ/z3i/Kz5dzL9418zRKOOzPxdKVT1oYOI/iQdCKCrF0L8+4qte25uvP9TendXc+pC/7nMiX8Shjb9ycJPZm9nEPwAAAAAAAPA/5sNnx/v8vr/YlG/rDd6lP/i0G7j3+dM/AWJ2Wo3+1j8OE5F7G661vzft6GAvdpM/SaaX1ZoTkz/PeL8rPl3Mv+bDZ8f7/L6/AAAAAAAA8D+UaLL53iCtv1ZEODuKetu/exAdZq4LwL+IOcTOTKydP67iazh0SXy/dDKDozYYc79418zRKOOzP9iUb+sN3qU/lGiy+d4grb8AAAAAAADwP1UbWcugJsM/MfRYJBXc6r/8iurfbfTLP/tM8Poylaq/W9lYux+ap78XSlU9aGDiP/i0G7j3+dM/VkQ4O4p6279VG1nLoCbDPwAAAAAAAPA/",
          "dtype": "f8",
          "shape": "9, 9"
         }
        }
       ],
       "layout": {
        "coloraxis": {
         "colorscale": [
          [
           0,
           "rgb(5,48,97)"
          ],
          [
           0.1,
           "rgb(33,102,172)"
          ],
          [
           0.2,
           "rgb(67,147,195)"
          ],
          [
           0.3,
           "rgb(146,197,222)"
          ],
          [
           0.4,
           "rgb(209,229,240)"
          ],
          [
           0.5,
           "rgb(247,247,247)"
          ],
          [
           0.6,
           "rgb(253,219,199)"
          ],
          [
           0.7,
           "rgb(244,165,130)"
          ],
          [
           0.8,
           "rgb(214,96,77)"
          ],
          [
           0.9,
           "rgb(178,24,43)"
          ],
          [
           1,
           "rgb(103,0,31)"
          ]
         ]
        },
        "margin": {
         "b": 20,
         "l": 20,
         "r": 20,
         "t": 20
        },
        "template": {
         "data": {
          "bar": [
           {
            "error_x": {
             "color": "#2a3f5f"
            },
            "error_y": {
             "color": "#2a3f5f"
            },
            "marker": {
             "line": {
              "color": "#E5ECF6",
              "width": 0.5
             },
             "pattern": {
              "fillmode": "overlay",
              "size": 10,
              "solidity": 0.2
             }
            },
            "type": "bar"
           }
          ],
          "barpolar": [
           {
            "marker": {
             "line": {
              "color": "#E5ECF6",
              "width": 0.5
             },
             "pattern": {
              "fillmode": "overlay",
              "size": 10,
              "solidity": 0.2
             }
            },
            "type": "barpolar"
           }
          ],
          "carpet": [
           {
            "aaxis": {
             "endlinecolor": "#2a3f5f",
             "gridcolor": "white",
             "linecolor": "white",
             "minorgridcolor": "white",
             "startlinecolor": "#2a3f5f"
            },
            "baxis": {
             "endlinecolor": "#2a3f5f",
             "gridcolor": "white",
             "linecolor": "white",
             "minorgridcolor": "white",
             "startlinecolor": "#2a3f5f"
            },
            "type": "carpet"
           }
          ],
          "choropleth": [
           {
            "colorbar": {
             "outlinewidth": 0,
             "ticks": ""
            },
            "type": "choropleth"
           }
          ],
          "contour": [
           {
            "colorbar": {
             "outlinewidth": 0,
             "ticks": ""
            },
            "colorscale": [
             [
              0,
              "#0d0887"
             ],
             [
              0.1111111111111111,
              "#46039f"
             ],
             [
              0.2222222222222222,
              "#7201a8"
             ],
             [
              0.3333333333333333,
              "#9c179e"
             ],
             [
              0.4444444444444444,
              "#bd3786"
             ],
             [
              0.5555555555555556,
              "#d8576b"
             ],
             [
              0.6666666666666666,
              "#ed7953"
             ],
             [
              0.7777777777777778,
              "#fb9f3a"
             ],
             [
              0.8888888888888888,
              "#fdca26"
             ],
             [
              1,
              "#f0f921"
             ]
            ],
            "type": "contour"
           }
          ],
          "contourcarpet": [
           {
            "colorbar": {
             "outlinewidth": 0,
             "ticks": ""
            },
            "type": "contourcarpet"
           }
          ],
          "heatmap": [
           {
            "colorbar": {
             "outlinewidth": 0,
             "ticks": ""
            },
            "colorscale": [
             [
              0,
              "#0d0887"
             ],
             [
              0.1111111111111111,
              "#46039f"
             ],
             [
              0.2222222222222222,
              "#7201a8"
             ],
             [
              0.3333333333333333,
              "#9c179e"
             ],
             [
              0.4444444444444444,
              "#bd3786"
             ],
             [
              0.5555555555555556,
              "#d8576b"
             ],
             [
              0.6666666666666666,
              "#ed7953"
             ],
             [
              0.7777777777777778,
              "#fb9f3a"
             ],
             [
              0.8888888888888888,
              "#fdca26"
             ],
             [
              1,
              "#f0f921"
             ]
            ],
            "type": "heatmap"
           }
          ],
          "histogram": [
           {
            "marker": {
             "pattern": {
              "fillmode": "overlay",
              "size": 10,
              "solidity": 0.2
             }
            },
            "type": "histogram"
           }
          ],
          "histogram2d": [
           {
            "colorbar": {
             "outlinewidth": 0,
             "ticks": ""
            },
            "colorscale": [
             [
              0,
              "#0d0887"
             ],
             [
              0.1111111111111111,
              "#46039f"
             ],
             [
              0.2222222222222222,
              "#7201a8"
             ],
             [
              0.3333333333333333,
              "#9c179e"
             ],
             [
              0.4444444444444444,
              "#bd3786"
             ],
             [
              0.5555555555555556,
              "#d8576b"
             ],
             [
              0.6666666666666666,
              "#ed7953"
             ],
             [
              0.7777777777777778,
              "#fb9f3a"
             ],
             [
              0.8888888888888888,
              "#fdca26"
             ],
             [
              1,
              "#f0f921"
             ]
            ],
            "type": "histogram2d"
           }
          ],
          "histogram2dcontour": [
           {
            "colorbar": {
             "outlinewidth": 0,
             "ticks": ""
            },
            "colorscale": [
             [
              0,
              "#0d0887"
             ],
             [
              0.1111111111111111,
              "#46039f"
             ],
             [
              0.2222222222222222,
              "#7201a8"
             ],
             [
              0.3333333333333333,
              "#9c179e"
             ],
             [
              0.4444444444444444,
              "#bd3786"
             ],
             [
              0.5555555555555556,
              "#d8576b"
             ],
             [
              0.6666666666666666,
              "#ed7953"
             ],
             [
              0.7777777777777778,
              "#fb9f3a"
             ],
             [
              0.8888888888888888,
              "#fdca26"
             ],
             [
              1,
              "#f0f921"
             ]
            ],
            "type": "histogram2dcontour"
           }
          ],
          "mesh3d": [
           {
            "colorbar": {
             "outlinewidth": 0,
             "ticks": ""
            },
            "type": "mesh3d"
           }
          ],
          "parcoords": [
           {
            "line": {
             "colorbar": {
              "outlinewidth": 0,
              "ticks": ""
             }
            },
            "type": "parcoords"
           }
          ],
          "pie": [
           {
            "automargin": true,
            "type": "pie"
           }
          ],
          "scatter": [
           {
            "fillpattern": {
             "fillmode": "overlay",
             "size": 10,
             "solidity": 0.2
            },
            "type": "scatter"
           }
          ],
          "scatter3d": [
           {
            "line": {
             "colorbar": {
              "outlinewidth": 0,
              "ticks": ""
             }
            },
            "marker": {
             "colorbar": {
              "outlinewidth": 0,
              "ticks": ""
             }
            },
            "type": "scatter3d"
           }
          ],
          "scattercarpet": [
           {
            "marker": {
             "colorbar": {
              "outlinewidth": 0,
              "ticks": ""
             }
            },
            "type": "scattercarpet"
           }
          ],
          "scattergeo": [
           {
            "marker": {
             "colorbar": {
              "outlinewidth": 0,
              "ticks": ""
             }
            },
            "type": "scattergeo"
           }
          ],
          "scattergl": [
           {
            "marker": {
             "colorbar": {
              "outlinewidth": 0,
              "ticks": ""
             }
            },
            "type": "scattergl"
           }
          ],
          "scattermap": [
           {
            "marker": {
             "colorbar": {
              "outlinewidth": 0,
              "ticks": ""
             }
            },
            "type": "scattermap"
           }
          ],
          "scattermapbox": [
           {
            "marker": {
             "colorbar": {
              "outlinewidth": 0,
              "ticks": ""
             }
            },
            "type": "scattermapbox"
           }
          ],
          "scatterpolar": [
           {
            "marker": {
             "colorbar": {
              "outlinewidth": 0,
              "ticks": ""
             }
            },
            "type": "scatterpolar"
           }
          ],
          "scatterpolargl": [
           {
            "marker": {
             "colorbar": {
              "outlinewidth": 0,
              "ticks": ""
             }
            },
            "type": "scatterpolargl"
           }
          ],
          "scatterternary": [
           {
            "marker": {
             "colorbar": {
              "outlinewidth": 0,
              "ticks": ""
             }
            },
            "type": "scatterternary"
           }
          ],
          "surface": [
           {
            "colorbar": {
             "outlinewidth": 0,
             "ticks": ""
            },
            "colorscale": [
             [
              0,
              "#0d0887"
             ],
             [
              0.1111111111111111,
              "#46039f"
             ],
             [
              0.2222222222222222,
              "#7201a8"
             ],
             [
              0.3333333333333333,
              "#9c179e"
             ],
             [
              0.4444444444444444,
              "#bd3786"
             ],
             [
              0.5555555555555556,
              "#d8576b"
             ],
             [
              0.6666666666666666,
              "#ed7953"
             ],
             [
              0.7777777777777778,
              "#fb9f3a"
             ],
             [
              0.8888888888888888,
              "#fdca26"
             ],
             [
              1,
              "#f0f921"
             ]
            ],
            "type": "surface"
           }
          ],
          "table": [
           {
            "cells": {
             "fill": {
              "color": "#EBF0F8"
             },
             "line": {
              "color": "white"
             }
            },
            "header": {
             "fill": {
              "color": "#C8D4E3"
             },
             "line": {
              "color": "white"
             }
            },
            "type": "table"
           }
          ]
         },
         "layout": {
          "annotationdefaults": {
           "arrowcolor": "#2a3f5f",
           "arrowhead": 0,
           "arrowwidth": 1
          },
          "autotypenumbers": "strict",
          "coloraxis": {
           "colorbar": {
            "outlinewidth": 0,
            "ticks": ""
           }
          },
          "colorscale": {
           "diverging": [
            [
             0,
             "#8e0152"
            ],
            [
             0.1,
             "#c51b7d"
            ],
            [
             0.2,
             "#de77ae"
            ],
            [
             0.3,
             "#f1b6da"
            ],
            [
             0.4,
             "#fde0ef"
            ],
            [
             0.5,
             "#f7f7f7"
            ],
            [
             0.6,
             "#e6f5d0"
            ],
            [
             0.7,
             "#b8e186"
            ],
            [
             0.8,
             "#7fbc41"
            ],
            [
             0.9,
             "#4d9221"
            ],
            [
             1,
             "#276419"
            ]
           ],
           "sequential": [
            [
             0,
             "#0d0887"
            ],
            [
             0.1111111111111111,
             "#46039f"
            ],
            [
             0.2222222222222222,
             "#7201a8"
            ],
            [
             0.3333333333333333,
             "#9c179e"
            ],
            [
             0.4444444444444444,
             "#bd3786"
            ],
            [
             0.5555555555555556,
             "#d8576b"
            ],
            [
             0.6666666666666666,
             "#ed7953"
            ],
            [
             0.7777777777777778,
             "#fb9f3a"
            ],
            [
             0.8888888888888888,
             "#fdca26"
            ],
            [
             1,
             "#f0f921"
            ]
           ],
           "sequentialminus": [
            [
             0,
             "#0d0887"
            ],
            [
             0.1111111111111111,
             "#46039f"
            ],
            [
             0.2222222222222222,
             "#7201a8"
            ],
            [
             0.3333333333333333,
             "#9c179e"
            ],
            [
             0.4444444444444444,
             "#bd3786"
            ],
            [
             0.5555555555555556,
             "#d8576b"
            ],
            [
             0.6666666666666666,
             "#ed7953"
            ],
            [
             0.7777777777777778,
             "#fb9f3a"
            ],
            [
             0.8888888888888888,
             "#fdca26"
            ],
            [
             1,
             "#f0f921"
            ]
           ]
          },
          "colorway": [
           "#636efa",
           "#EF553B",
           "#00cc96",
           "#ab63fa",
           "#FFA15A",
           "#19d3f3",
           "#FF6692",
           "#B6E880",
           "#FF97FF",
           "#FECB52"
          ],
          "font": {
           "color": "#2a3f5f"
          },
          "geo": {
           "bgcolor": "white",
           "lakecolor": "white",
           "landcolor": "#E5ECF6",
           "showlakes": true,
           "showland": true,
           "subunitcolor": "white"
          },
          "hoverlabel": {
           "align": "left"
          },
          "hovermode": "closest",
          "mapbox": {
           "style": "light"
          },
          "paper_bgcolor": "white",
          "plot_bgcolor": "#E5ECF6",
          "polar": {
           "angularaxis": {
            "gridcolor": "white",
            "linecolor": "white",
            "ticks": ""
           },
           "bgcolor": "#E5ECF6",
           "radialaxis": {
            "gridcolor": "white",
            "linecolor": "white",
            "ticks": ""
           }
          },
          "scene": {
           "xaxis": {
            "backgroundcolor": "#E5ECF6",
            "gridcolor": "white",
            "gridwidth": 2,
            "linecolor": "white",
            "showbackground": true,
            "ticks": "",
            "zerolinecolor": "white"
           },
           "yaxis": {
            "backgroundcolor": "#E5ECF6",
            "gridcolor": "white",
            "gridwidth": 2,
            "linecolor": "white",
            "showbackground": true,
            "ticks": "",
            "zerolinecolor": "white"
           },
           "zaxis": {
            "backgroundcolor": "#E5ECF6",
            "gridcolor": "white",
            "gridwidth": 2,
            "linecolor": "white",
            "showbackground": true,
            "ticks": "",
            "zerolinecolor": "white"
           }
          },
          "shapedefaults": {
           "line": {
            "color": "#2a3f5f"
           }
          },
          "ternary": {
           "aaxis": {
            "gridcolor": "white",
            "linecolor": "white",
            "ticks": ""
           },
           "baxis": {
            "gridcolor": "white",
            "linecolor": "white",
            "ticks": ""
           },
           "bgcolor": "#E5ECF6",
           "caxis": {
            "gridcolor": "white",
            "linecolor": "white",
            "ticks": ""
           }
          },
          "title": {
           "x": 0.05
          },
          "xaxis": {
           "automargin": true,
           "gridcolor": "white",
           "linecolor": "white",
           "ticks": "",
           "title": {
            "standoff": 15
           },
           "zerolinecolor": "white",
           "zerolinewidth": 2
          },
          "yaxis": {
           "automargin": true,
           "gridcolor": "white",
           "linecolor": "white",
           "ticks": "",
           "title": {
            "standoff": 15
           },
           "zerolinecolor": "white",
           "zerolinewidth": 2
          }
         }
        },
        "title": {
         "text": "Mapa de Correlação"
        },
        "xaxis": {
         "anchor": "y",
         "constrain": "domain",
         "domain": [
          0,
          1
         ],
         "scaleanchor": "y"
        },
        "yaxis": {
         "anchor": "x",
         "autorange": "reversed",
         "constrain": "domain",
         "domain": [
          0,
          1
         ]
        }
       }
      }
     },
     "metadata": {},
     "output_type": "display_data"
    }
   ],
   "source": [
    "import plotly.express as px\n",
    "\n",
    "correlacao = df.corr(numeric_only=True)\n",
    "\n",
    "fig = px.imshow(\n",
    "    correlacao,\n",
    "    text_auto=\".2f\",  # mostra os valores dentro das células com 2 casas decimais\n",
    "    color_continuous_scale='RdBu_r',  # escala de cores bonita e invertida\n",
    "    title=\"Mapa de Correlação\"\n",
    ")\n",
    "fig.update_layout(margin=dict(l=20, r=20, t=20, b=20))\n",
    "fig.show()\n"
   ]
  },
  {
   "cell_type": "markdown",
   "id": "f6cdf84b",
   "metadata": {},
   "source": [
    "Observa-se algumas variáveis chamando atenção no mapa de correlação, mas ainda não temos nada conclusivo, continuaremos a exploração dos dados.\n",
    "\n",
    "Faremos agora o cruzamento direto dos cancelamentos com outras variáveis do Dataset, para identificar possíveis padrões."
   ]
  },
  {
   "cell_type": "code",
   "execution_count": 8,
   "id": "a3f7adad",
   "metadata": {},
   "outputs": [
    {
     "data": {
      "image/png": "[encoded data removed]",
      "text/plain": [
       "<Figure size 1000x600 with 1 Axes>"
      ]
     },
     "metadata": {},
     "output_type": "display_data"
    }
   ],
   "source": [
    "sns.countplot(data=df, x='sexo', hue='cancelou')\n",
    "plt.title('Cancelamentos por Sexo')\n",
    "plt.show()"
   ]
  },
  {
   "cell_type": "code",
   "execution_count": 9,
   "id": "61ee067c",
   "metadata": {},
   "outputs": [
    {
     "data": {
      "image/png": "[encoded data removed]",
      "text/plain": [
       "<Figure size 1000x600 with 1 Axes>"
      ]
     },
     "metadata": {},
     "output_type": "display_data"
    }
   ],
   "source": [
    "sns.countplot(data=df, x='assinatura', hue='cancelou')\n",
    "plt.title('Distribuição por Assinatura')\n",
    "plt.show()"
   ]
  },
  {
   "cell_type": "code",
   "execution_count": 10,
   "id": "12b71137",
   "metadata": {},
   "outputs": [
    {
     "data": {
      "image/png": "[encoded data removed]",
      "text/plain": [
       "<Figure size 1000x600 with 1 Axes>"
      ]
     },
     "metadata": {},
     "output_type": "display_data"
    }
   ],
   "source": [
    "sns.countplot(data=df, x='duracao_contrato', hue='cancelou')\n",
    "plt.title('Distribuição por tempo de contrato')\n",
    "plt.show()"
   ]
  },
  {
   "cell_type": "code",
   "execution_count": 11,
   "id": "568373c4",
   "metadata": {},
   "outputs": [
    {
     "data": {
      "image/png": "[encoded data removed]",
      "text/plain": [
       "<Figure size 1000x600 with 1 Axes>"
      ]
     },
     "metadata": {},
     "output_type": "display_data"
    }
   ],
   "source": [
    "sns.histplot(data=df, x='idade', bins=30, hue='cancelou')\n",
    "plt.title('Distribuição por Idade')\n",
    "plt.show()"
   ]
  },
  {
   "cell_type": "code",
   "execution_count": 12,
   "id": "c47972e0",
   "metadata": {},
   "outputs": [
    {
     "data": {
      "image/png": "[encoded data removed]",
      "text/plain": [
       "<Figure size 1000x600 with 1 Axes>"
      ]
     },
     "metadata": {},
     "output_type": "display_data"
    }
   ],
   "source": [
    "sns.histplot(data=df, x='dias_atraso', bins=30, hue='cancelou')\n",
    "plt.title('Distribuição por tempo de atraso')\n",
    "plt.show()"
   ]
  },
  {
   "cell_type": "code",
   "execution_count": 13,
   "id": "c5392f80",
   "metadata": {},
   "outputs": [
    {
     "data": {
      "image/png": "[encoded data removed]",
      "text/plain": [
       "<Figure size 1000x600 with 1 Axes>"
      ]
     },
     "metadata": {},
     "output_type": "display_data"
    }
   ],
   "source": [
    "sns.countplot(data=df, x='ligacoes_callcenter', hue='cancelou')\n",
    "plt.title('Distribuição por ligações para o call center')\n",
    "plt.show()"
   ]
  },
  {
   "cell_type": "markdown",
   "id": "4717b070",
   "metadata": {},
   "source": [
    "## Após avaliação visual do dados, alguns pontos interessantes foram analisados.\n",
    "\n",
    "### 1 - O público feminino tem uma alta taxa de cancelamento.\n",
    "    Pode indicar maior insatisfação nesse segmento, ou talvez uma comunicação de retenção menos eficaz. É algo para a empresa investigar do ponto de vista de UX e marketing.\n",
    "\n",
    "### 2 - 100% dos clientes com assinatura mensal cancelam.\n",
    "    Hipótese: gente que entra só pra testar e já sai. Pode ser que o plano mensal atrai mais churners naturais. Um ótimo ponto para repensar o modelo.\n",
    "\n",
    "### 3 - 50% dos clientes até 20 anos, e 100% dos clientes acima de 50 anos cancelam.\n",
    "    Jovens até 20 → 50% cancelam → talvez sejam mais impulsivos ou não enxerguem valor a longo prazo.\n",
    "\n",
    "    Acima de 50 → 100% de cancelamento. Pode ser problema de usabilidade, atendimento, ou falta de fit com o serviço.\n",
    "\n",
    "### 4 - 100% dos clientes com mais de 20 dias de atraso cancelam.\n",
    "    Essa aqui é praticamente uma regra de decisão pronta pro modelo!\n",
    "    Cliente atrasou mais de 20 dias? Grandes chances de cancelamento.\n",
    "\n",
    "### 5 - 100% dos clientes que ligam mais de 4 vezes para o call center cancelam.\n",
    "    Outro ponto de estudo para a empresa, o atendimento do setor call center, e o tempo para a resolução dos chamados.\n",
    "    Pode-se ainda fazer uma correlação com os clientes maiores que 50 anos e o número de ligações, para entender ser esse é o público que mais liga.\n"
   ]
  },
  {
   "cell_type": "markdown",
   "id": "875c8fbf",
   "metadata": {},
   "source": [
    "## Visualização Gráfica dos Padrões Observados\n",
    "\n",
    "Agora que identificamos alguns padrões de cancelamento ao longo da análise, vamos gerar os principais gráficos para ilustrar esses comportamentos.\n",
    "\n",
    "Os gráficos serão salvos na pasta `outputs/plots/` e podem ser utilizados no relatório (`docs/EDA.md`) ou na apresentação visual do projeto.\n"
   ]
  },
  {
   "cell_type": "code",
   "execution_count": 18,
   "id": "8dc22b22",
   "metadata": {},
   "outputs": [],
   "source": [
    "import sys\n",
    "import os\n",
    "\n",
    "# Adiciona a raiz do projeto ao path\n",
    "sys.path.append(os.path.abspath(\"..\"))\n",
    "\n",
    "from src.eda_plotting import gerar_todos_os_graficos\n",
    "\n",
    "gerar_todos_os_graficos(df)"
   ]
  }
 ],
 "metadata": {
  "kernelspec": {
   "display_name": "churn-prediction-project",
   "language": "python",
   "name": "python3"
  },
  "language_info": {
   "codemirror_mode": {
    "name": "ipython",
    "version": 3
   },
   "file_extension": ".py",
   "mimetype": "text/x-python",
   "name": "python",
   "nbconvert_exporter": "python",
   "pygments_lexer": "ipython3",
   "version": "3.12.7"
  }
 },
 "nbformat": 4,
 "nbformat_minor": 5
}
